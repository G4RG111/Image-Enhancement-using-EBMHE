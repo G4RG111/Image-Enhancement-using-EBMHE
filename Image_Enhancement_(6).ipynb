{
  "nbformat": 4,
  "nbformat_minor": 0,
  "metadata": {
    "colab": {
      "provenance": [],
      "authorship_tag": "ABX9TyMcgeFoWT9R7w8L1o+emhQu",
      "include_colab_link": true
    },
    "kernelspec": {
      "name": "python3",
      "display_name": "Python 3"
    },
    "language_info": {
      "name": "python"
    }
  },
  "cells": [
    {
      "cell_type": "markdown",
      "metadata": {
        "id": "view-in-github",
        "colab_type": "text"
      },
      "source": [
        "<a href=\"https://colab.research.google.com/github/G4RG111/Image-Enhancement-using-EBMHE/blob/main/Image_Enhancement_(6).ipynb\" target=\"_parent\"><img src=\"https://colab.research.google.com/assets/colab-badge.svg\" alt=\"Open In Colab\"/></a>"
      ]
    },
    {
      "cell_type": "code",
      "execution_count": null,
      "metadata": {
        "colab": {
          "base_uri": "https://localhost:8080/"
        },
        "id": "0I2gcBI8qgtg",
        "outputId": "b1cef138-c1c5-447a-d8a3-3f7bdd8b794f"
      },
      "outputs": [
        {
          "output_type": "stream",
          "name": "stdout",
          "text": [
            "Requirement already satisfied: opencv-python in /usr/local/lib/python3.10/dist-packages (4.8.0.76)\n",
            "Requirement already satisfied: numpy in /usr/local/lib/python3.10/dist-packages (1.23.5)\n"
          ]
        }
      ],
      "source": [
        "pip install opencv-python numpy\n"
      ]
    },
    {
      "cell_type": "code",
      "source": [
        "#EBMHE without using blur\n",
        "\n",
        "import cv2\n",
        "import numpy as np\n",
        "\n",
        "def ebmhe(image):\n",
        "    # Divide the image into blocks\n",
        "    block_size = 16\n",
        "    height, width = image.shape\n",
        "    enhanced_image = np.zeros_like(image)\n",
        "\n",
        "    for i in range(0, height, block_size):\n",
        "        for j in range(0, width, block_size):\n",
        "            # Extract the block\n",
        "            block = image[i:i+block_size, j:j+block_size]\n",
        "\n",
        "            # Hist Eq.\n",
        "            equalized_block = cv2.equalizeHist(block)\n",
        "\n",
        "            # Calculate the exposure level of the block\n",
        "            exposure = np.mean(equalized_block)\n",
        "\n",
        "            # Adjust the block intensity based on exposure level\n",
        "            enhanced_block = equalized_block * (128 / exposure)\n",
        "\n",
        "            # Clip and place the enhanced block back into the image\n",
        "            enhanced_image[i:i+block_size, j:j+block_size] = np.clip(enhanced_block, 0, 255)\n",
        "\n",
        "    return enhanced_image\n",
        "\n",
        "input_image = cv2.imread('/content/satellite.jpg', cv2.IMREAD_GRAYSCALE)\n",
        "\n",
        "cv2.imwrite('/content/greyscale_satellite.jpg', input_image)\n",
        "\n",
        "enhanced_image = ebmhe(input_image)\n",
        "\n",
        "cv2.imwrite('/content/enhanced_greyscale_satellite.jpg', enhanced_image)\n",
        "\n",
        "print(\"Original grayscale image saved: /content/greyscale_satellite.jpg\")\n",
        "print(\"Enhanced image saved: /content/enhanced_greyscale_satellite.jpg\")\n"
      ],
      "metadata": {
        "colab": {
          "base_uri": "https://localhost:8080/"
        },
        "id": "eQx1uH_8trgL",
        "outputId": "75ee696a-9558-443e-b280-76ba3c8355d7"
      },
      "execution_count": null,
      "outputs": [
        {
          "output_type": "stream",
          "name": "stdout",
          "text": [
            "Original grayscale image saved: /content/greyscale_satellite.jpg\n",
            "Enhanced image saved: /content/enhanced_greyscale_satellite.jpg\n"
          ]
        }
      ]
    },
    {
      "cell_type": "code",
      "source": [
        "#CLAHE\n",
        "import cv2\n",
        "import numpy as np\n",
        "\n",
        "def clahe_enhancement(image):\n",
        "    clahe = cv2.createCLAHE(clipLimit=2.0, tileGridSize=(8, 8))\n",
        "\n",
        "    enhanced_image = clahe.apply(image)\n",
        "\n",
        "    return enhanced_image\n",
        "\n",
        "input_image = cv2.imread('/content/mri.jpg', cv2.IMREAD_GRAYSCALE)\n",
        "\n",
        "cv2.imwrite('/content/greyscale_mri_clahe.jpg', input_image)\n",
        "\n",
        "enhanced_image = clahe_enhancement(input_image)\n",
        "\n",
        "cv2.imwrite('/content/enhanced_greyscale_mri_clahe.jpg', enhanced_image)\n",
        "\n",
        "print(\"Original grayscale image saved: /content/greyscale_mri_clahe.jpg\")\n",
        "print(\"Enhanced image saved: /content/enhanced_greyscale_mri_clahe.jpg\")\n"
      ],
      "metadata": {
        "colab": {
          "base_uri": "https://localhost:8080/"
        },
        "id": "5FHHRjJouTEw",
        "outputId": "b9acfab9-f962-4e1d-e6f2-5196a7b734a6"
      },
      "execution_count": null,
      "outputs": [
        {
          "output_type": "stream",
          "name": "stdout",
          "text": [
            "Original grayscale image saved: /content/greyscale_mri_clahe.jpg\n",
            "Enhanced image saved: /content/enhanced_greyscale_mri_clahe.jpg\n"
          ]
        }
      ]
    },
    {
      "cell_type": "code",
      "source": [
        "##EBMHE with using blur\n",
        "import cv2\n",
        "import numpy as np\n",
        "\n",
        "def preprocess_image(image):\n",
        "    # Applying Gaussian blur for noise reduction\n",
        "    blurred_image = cv2.GaussianBlur(image, (5, 5), 0)\n",
        "\n",
        "    # Normalization\n",
        "    normalized_image = cv2.normalize(blurred_image, None, 0, 255, cv2.NORM_MINMAX)\n",
        "\n",
        "    return normalized_image\n",
        "\n",
        "def ebmhe(image):\n",
        "    # Divide the image into blocks\n",
        "    block_size = 16\n",
        "    height, width = image.shape\n",
        "    enhanced_image = np.zeros_like(image)\n",
        "\n",
        "    for i in range(0, height, block_size):\n",
        "        for j in range(0, width, block_size):\n",
        "            # Extract the block\n",
        "            block = image[i:i+block_size, j:j+block_size]\n",
        "\n",
        "            # Hist Eq.\n",
        "            equalized_block = cv2.equalizeHist(block)\n",
        "\n",
        "            # Calculate the exposure level of the block\n",
        "            exposure = np.mean(equalized_block)\n",
        "\n",
        "            # Adjust the block intensity based on exposure level\n",
        "            enhanced_block = equalized_block * (128 / exposure)\n",
        "\n",
        "            # Clip and place the enhanced block back into the image\n",
        "            enhanced_image[i:i+block_size, j:j+block_size] = np.clip(enhanced_block, 0, 255)\n",
        "\n",
        "    return enhanced_image\n",
        "\n",
        "input_image = cv2.imread('/content/mri.jpg', cv2.IMREAD_GRAYSCALE)\n",
        "\n",
        "preprocessed_image = preprocess_image(input_image)\n",
        "\n",
        "cv2.imwrite('/content/grey_mri.jpg', preprocessed_image)\n",
        "\n",
        "enhanced_image = ebmhe(preprocessed_image)\n",
        "\n",
        "cv2.imwrite('/content/enhanced_mri.jpg', enhanced_image)\n",
        "\n",
        "print(\"Preprocessed grayscale image saved: /content/grey_mri.jpg\")\n",
        "print(\"Enhanced image saved: /content/enhanced_mri.jpg\")\n"
      ],
      "metadata": {
        "colab": {
          "base_uri": "https://localhost:8080/"
        },
        "id": "3sH3gYkY7aRX",
        "outputId": "1726a2c8-43d8-48c4-ce0c-e1b820cc64c3"
      },
      "execution_count": null,
      "outputs": [
        {
          "output_type": "stream",
          "name": "stdout",
          "text": [
            "Preprocessed grayscale image saved: /content/grey_mri.jpg\n",
            "Enhanced image saved: /content/enhanced_mri.jpg\n"
          ]
        }
      ]
    }
  ]
}